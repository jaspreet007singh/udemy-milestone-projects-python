{
 "cells": [
  {
   "cell_type": "code",
   "execution_count": 15,
   "metadata": {},
   "outputs": [],
   "source": [
    "gl=[1,2,3,4,5,6]"
   ]
  },
  {
   "cell_type": "code",
   "execution_count": null,
   "metadata": {},
   "outputs": [],
   "source": []
  },
  {
   "cell_type": "code",
   "execution_count": 17,
   "metadata": {},
   "outputs": [
    {
     "data": {
      "text/plain": [
       "[1, 2, 3, 4, 5, 6]"
      ]
     },
     "execution_count": 17,
     "metadata": {},
     "output_type": "execute_result"
    }
   ],
   "source": [
    "gl\n"
   ]
  },
  {
   "cell_type": "code",
   "execution_count": 54,
   "metadata": {},
   "outputs": [],
   "source": [
    "cross_list=[]\n",
    "circ_list=[]"
   ]
  },
  {
   "cell_type": "code",
   "execution_count": 22,
   "metadata": {},
   "outputs": [
    {
     "name": "stdout",
     "output_type": "stream",
     "text": [
      "Enter your choice Cross player5\n"
     ]
    }
   ],
   "source": [
    "cross_list=int(input(\"Enter your choice Cross player\"))"
   ]
  },
  {
   "cell_type": "code",
   "execution_count": null,
   "metadata": {},
   "outputs": [],
   "source": [
    "for nu in range(1,9):\n",
    "    cross_list=int(scan(\"Enter your choice Cross player\"))\n",
    "    "
   ]
  },
  {
   "cell_type": "code",
   "execution_count": 39,
   "metadata": {},
   "outputs": [
    {
     "name": "stdout",
     "output_type": "stream",
     "text": [
      "Enter your choice Cross player2\n"
     ]
    }
   ],
   "source": [
    "a=int(input(\"Enter your choice Cross player\"))"
   ]
  },
  {
   "cell_type": "code",
   "execution_count": 48,
   "metadata": {},
   "outputs": [],
   "source": [
    "cross_list.append(8)"
   ]
  },
  {
   "cell_type": "code",
   "execution_count": 49,
   "metadata": {},
   "outputs": [
    {
     "data": {
      "text/plain": [
       "[2, 5, 8]"
      ]
     },
     "execution_count": 49,
     "metadata": {},
     "output_type": "execute_result"
    }
   ],
   "source": [
    "cross_list"
   ]
  },
  {
   "cell_type": "code",
   "execution_count": 1,
   "metadata": {},
   "outputs": [],
   "source": [
    "l=[2,5,9]\n",
    "l1=[1,4,7]"
   ]
  },
  {
   "cell_type": "code",
   "execution_count": 15,
   "metadata": {},
   "outputs": [
    {
     "data": {
      "text/plain": [
       "False"
      ]
     },
     "execution_count": 15,
     "metadata": {},
     "output_type": "execute_result"
    }
   ],
   "source": [
    "l==0"
   ]
  },
  {
   "cell_type": "code",
   "execution_count": 5,
   "metadata": {},
   "outputs": [],
   "source": [
    "gd={'1':[1,2,3],'2':[1,4,7],'3':[1,5,9],'4':[2,5,8],'5':[3,5,7],'6':[3,6,9],'7':[4,5,6],'8':[7,8,9]}"
   ]
  },
  {
   "cell_type": "code",
   "execution_count": 1,
   "metadata": {},
   "outputs": [],
   "source": [
    "\n",
    "    def show(l,l1,n1):\n",
    "        for n in range(1,6):\n",
    "            if n%2==0:\n",
    "                print(\"-\"*8)\n",
    "            if n==1:\n",
    "                for i in range(0,n1):\n",
    "                    if l[i]==1:\n",
    "                        if l1[i]==2:\n",
    "                            print(\"X | O | \")\n",
    "                        elif l1[i]==3:\n",
    "                            print(\"X |  | O\")\n",
    "                        else:\n",
    "                            print(\"X |  | \")\n",
    "                    if l[i]==2:\n",
    "                        if l1[i]==1:\n",
    "                            print(\"O | X | \")\n",
    "                        elif l1[i]==3:\n",
    "                            print(\" | X | O\")\n",
    "                        else:\n",
    "                            print(\" | X | \")\n",
    "                    if l[i]==3:\n",
    "                        if l1[i]==1:\n",
    "                            print(\"O |  | X\")\n",
    "                        elif l1[i]==2:\n",
    "                            print(\" | O | X\")\n",
    "                        else:\n",
    "                            print(\" |  | X\")\n",
    "            if n==3:\n",
    "                for i in range(0,n1):\n",
    "                    if l[i]==4:\n",
    "                        if l1[i]==5:\n",
    "                            print(\"X | O | \")\n",
    "                        elif l1[i]==6:\n",
    "                            print(\"X |  | O\")\n",
    "                        else:\n",
    "                            print(\"X |  | \")\n",
    "                    if l[i]==5:\n",
    "                        if l1[i]==4:\n",
    "                            print(\"O | X | \")\n",
    "                        elif l1[i]==6:\n",
    "                            print(\" | X | O\")\n",
    "                        else:\n",
    "                            print(\" | X | \")\n",
    "                    if l[i]==6:\n",
    "                        if l1[i]==4:\n",
    "                            print(\"O |  | X\")\n",
    "                        elif l1[i]==5:\n",
    "                            print(\" | O | X\")\n",
    "                        else:\n",
    "                            print(\" |  | X\")\n",
    "            if n==5:\n",
    "                for i in range(0,n1):\n",
    "                    if l[i]==7:\n",
    "                        if l1[i]==8:\n",
    "                            print(\"X | O | \")\n",
    "                        elif l1[i]==9:\n",
    "                            print(\"X |  | O\")\n",
    "                        else:\n",
    "                            print(\"X |  | \")\n",
    "                    if l[i]==8:\n",
    "                        if l1[i]==7:\n",
    "                            print(\"O | X | \")\n",
    "                        elif l1[i]==9:\n",
    "                            print(\" | X | O\")\n",
    "                        else:\n",
    "                            print(\" | X | \")\n",
    "                    if l[i]==9:\n",
    "                        if l1[i]==7:\n",
    "                            print(\"O |  | X\")\n",
    "                        elif l1[i]==8:\n",
    "                            print(\" | O | X\")\n",
    "                        else:\n",
    "                            print(\" |  | X\")\n",
    "                        \n",
    "                   "
   ]
  },
  {
   "cell_type": "code",
   "execution_count": null,
   "metadata": {},
   "outputs": [],
   "source": []
  },
  {
   "cell_type": "code",
   "execution_count": 27,
   "metadata": {},
   "outputs": [],
   "source": [
    "def show(l,l1,n1):\n",
    "    for n in range(1,6):\n",
    "        if n%2==0:\n",
    "            print(\"-\"*8)\n",
    "        for c in range(1,10):\n",
    "                \n",
    "                for i in range(0,n1):\n",
    "                     \n",
    "                        if l[i]==1 and l1[i]==2:\n",
    "                            print(\"X | O | \")\n",
    "                        if l[i]==1 and l1[i]==3:\n",
    "                            print(\"X |  | O\")\n",
    "                        if l[i]==2 and l1[i]==1:\n",
    "                            print(\"O | X | \")\n",
    "                        if l[i]==2 and l1[i]==3:\n",
    "                            print(\" | X | O\")\n",
    "                        if l[i]==3 and l1[i]==1:\n",
    "                            print(\"O |  | X\")\n",
    "                        if l[i]==3 and l1[i]==2:\n",
    "                            print(\" | O | X\")\n",
    "       \n",
    "    \n",
    "                for i in range(0,n1):\n",
    "                    if l!=0 or l1!=0:\n",
    "                        if l[i]==4 and l1[i]==5:\n",
    "                            print(\"X | O | \")\n",
    "                        if l[i]==4 and l1[i]==6:\n",
    "                            print(\"X |  | O\")\n",
    "                        if l[i]==5 and l1[i]==4:\n",
    "                            print(\"O | X | \")\n",
    "                        if l[i]==5 and l1[i]==6:\n",
    "                            print(\" | X | O\")\n",
    "                        if l[i]==6 and l1[i]==4:\n",
    "                            print(\"O |  | X\")\n",
    "                        if l[i]==6 and l1[i]==5:\n",
    "                            print(\" | O | X\")\n",
    "       \n",
    "        \n",
    "                for i in range(0,n1):\n",
    "                    if l!=0 or l1!=0:\n",
    "                        if l[i]==7 and l1[i]==8:\n",
    "                            print(\"X | O | \")\n",
    "                        if l[i]==7 and l1[i]==9:\n",
    "                            print(\"X |  | O\")\n",
    "                        if l[i]==8 and l1[i]==7:\n",
    "                            print(\"O | X | \")\n",
    "                        if l[i]==8 and l1[i]==9:\n",
    "                            print(\" | X | O\")\n",
    "                        if l[i]==9 and l1[i]==7:\n",
    "                            print(\"O |  | X\")\n",
    "                        if l[i]==9 and l1[i]==8:\n",
    "                            print(\" | O | X\")\n",
    "                \n",
    "                    \n",
    "                    \n",
    "\n",
    "    \n",
    "\n",
    "\n",
    "\n"
   ]
  },
  {
   "cell_type": "code",
   "execution_count": null,
   "metadata": {},
   "outputs": [],
   "source": []
  },
  {
   "cell_type": "code",
   "execution_count": null,
   "metadata": {},
   "outputs": [],
   "source": [
    "# Main Prog starts here"
   ]
  },
  {
   "cell_type": "code",
   "execution_count": null,
   "metadata": {},
   "outputs": [],
   "source": []
  },
  {
   "cell_type": "code",
   "execution_count": null,
   "metadata": {},
   "outputs": [],
   "source": []
  },
  {
   "cell_type": "code",
   "execution_count": 2,
   "metadata": {},
   "outputs": [],
   "source": [
    "def win(cl,cil):\n",
    "    gd={'1':[1,2,3],'2':[1,4,7],'3':[1,5,9],'4':[2,5,8],'5':[3,5,7],'6':[3,6,9],'7':[4,5,6],'8':[7,8,9]}\n",
    "    for val in gd.values():\n",
    "        if cl==val or cil==val:\n",
    "            return True\n",
    "        else:\n",
    "            return False\n",
    "            "
   ]
  },
  {
   "cell_type": "code",
   "execution_count": 3,
   "metadata": {},
   "outputs": [],
   "source": [
    "def twin(cl,cil):\n",
    "    a=0\n",
    "    gd={'1':[1,2,3],'2':[1,4,7],'3':[1,5,9],'4':[2,5,8],'5':[3,5,7],'6':[3,6,9],'7':[4,5,6],'8':[7,8,9]}\n",
    "    for val in gd.values():\n",
    "        if cl==val:\n",
    "            a=1\n",
    "            print(\"The player with CROSS wins \")\n",
    "        if cil==val:\n",
    "            a=1\n",
    "            print(\"The player with CIRCLE wins\")\n",
    "      \n",
    "    if a!=1:\n",
    "        print(\"No one wins XD\")\n",
    "        \n",
    "            "
   ]
  },
  {
   "cell_type": "code",
   "execution_count": null,
   "metadata": {},
   "outputs": [
    {
     "name": "stdout",
     "output_type": "stream",
     "text": [
      "Please enter your choice CROSS player= 1\n",
      "Please enter your choice CIRCLE player= 3\n",
      "X |  | O\n",
      "--------\n",
      "--------\n",
      "Please enter your choice CROSS player= 2\n",
      "Please enter your choice CIRCLE player= 5\n",
      "X |  | O\n",
      " | X | \n",
      "--------\n",
      "--------\n",
      "Please enter your choice CROSS player= 4\n",
      "Please enter your choice CIRCLE player= 7\n",
      "X |  | O\n",
      " | X | \n",
      "--------\n",
      "X |  | \n",
      "--------\n"
     ]
    }
   ],
   "source": [
    "b1=0\n",
    "n1=0\n",
    "cross_list=[]\n",
    "circ_list=[]\n",
    "for num in range(0,9):\n",
    "    a=int(input(\"Please enter your choice CROSS player= \"))\n",
    "    cross_list.append(a)\n",
    "    b1+=1\n",
    "    gv=win(cross_list,circ_list)\n",
    "    if gv==True:\n",
    "        break\n",
    "    b=int(input(\"Please enter your choice CIRCLE player= \"))\n",
    "    circ_list.append(b)\n",
    "    b1+=1\n",
    "    n1=n1+1\n",
    "    show(cross_list,circ_list,n1)\n",
    "    gv=win(cross_list,circ_list)\n",
    "    if gv==True:\n",
    "        break\n",
    "    else:\n",
    "        if b1>=9:\n",
    "            break\n",
    "        else:\n",
    "            continue\n",
    "twin(cross_list,circ_list)"
   ]
  },
  {
   "cell_type": "code",
   "execution_count": null,
   "metadata": {},
   "outputs": [],
   "source": []
  },
  {
   "cell_type": "code",
   "execution_count": null,
   "metadata": {},
   "outputs": [],
   "source": []
  },
  {
   "cell_type": "code",
   "execution_count": null,
   "metadata": {},
   "outputs": [],
   "source": []
  },
  {
   "cell_type": "code",
   "execution_count": null,
   "metadata": {},
   "outputs": [],
   "source": []
  },
  {
   "cell_type": "code",
   "execution_count": null,
   "metadata": {},
   "outputs": [],
   "source": []
  },
  {
   "cell_type": "code",
   "execution_count": null,
   "metadata": {},
   "outputs": [],
   "source": []
  },
  {
   "cell_type": "code",
   "execution_count": null,
   "metadata": {},
   "outputs": [],
   "source": []
  },
  {
   "cell_type": "code",
   "execution_count": null,
   "metadata": {},
   "outputs": [],
   "source": []
  },
  {
   "cell_type": "code",
   "execution_count": null,
   "metadata": {},
   "outputs": [],
   "source": []
  }
 ],
 "metadata": {
  "kernelspec": {
   "display_name": "Python 3",
   "language": "python",
   "name": "python3"
  },
  "language_info": {
   "codemirror_mode": {
    "name": "ipython",
    "version": 3
   },
   "file_extension": ".py",
   "mimetype": "text/x-python",
   "name": "python",
   "nbconvert_exporter": "python",
   "pygments_lexer": "ipython3",
   "version": "3.7.6"
  }
 },
 "nbformat": 4,
 "nbformat_minor": 4
}
